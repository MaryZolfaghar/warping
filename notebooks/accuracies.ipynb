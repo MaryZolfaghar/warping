{
 "cells": [
  {
   "cell_type": "markdown",
   "source": [
    "# Comparison of accuracy on congruent vs. incongruent trials"
   ],
   "metadata": {}
  },
  {
   "cell_type": "code",
   "execution_count": 45,
   "source": [
    "import os\n",
    "import pickle\n",
    "import numpy as np\n",
    "import pandas as pd\n",
    "import matplotlib.pyplot as plt\n",
    "\n",
    "from scipy.stats import binom_test\n",
    "import statsmodels.api as sm\n",
    "import statsmodels.formula.api as smf"
   ],
   "outputs": [],
   "metadata": {}
  },
  {
   "cell_type": "code",
   "execution_count": 46,
   "source": [
    "def load_results(results_fn, result_type= 'accuracy', rep_name = ''):\n",
    "    \"\"\"\n",
    "        Function to load the results\n",
    "            - result_fn: the path to the result folder\n",
    "            - result_type: whether loading 'accuracy' result or 'warping' (distance ratio) result\n",
    "            - rep_name: what type of representation to use (e.g, the averaged representations)\n",
    "    \"\"\"\n",
    "    results_dir = '../results/'\n",
    "    results_path = os.path.join(results_dir,results_fn)\n",
    "    \n",
    "    with open(results_path, 'rb') as f:\n",
    "        data = pickle.load(f)\n",
    "    \n",
    "    if result_type == 'accuracy':\n",
    "        results = data['results']\n",
    "        accs = []\n",
    "        cong_accs = []\n",
    "        incong_accs = []\n",
    "        for run in results:\n",
    "            accs.append([s['acc'] for s in run['analyze_accs']])\n",
    "            cong_accs.append([s['cong_acc'] for s in run['analyze_accs']])\n",
    "            incong_accs.append([s['incong_acc'] for s in run['analyze_accs']])\n",
    "        accs = np.array(accs)\n",
    "        cong_accs = np.array(cong_accs)\n",
    "        incong_accs = np.array(incong_accs)\n",
    "        return accs, cong_accs, incong_accs\n",
    "    elif result_type == 'warping':\n",
    "        # Get ratio results\n",
    "        analysis = data['analysis']\n",
    "        ratios = []\n",
    "        for run in analysis:\n",
    "            ratios.append([s['distance_ratio'][rep_name]['ratio'] for s in run])\n",
    "        dist_ratios = np.array(ratios)\n",
    "        \n",
    "        return dist_ratios"
   ],
   "outputs": [],
   "metadata": {}
  },
  {
   "cell_type": "code",
   "execution_count": 47,
   "source": [
    "def plot_accuracy(cong_accs, incong_accs, cong_p, incong_p, \n",
    "                  logistic_p, analyze_every, title, save_fn,\n",
    "                  sig_threshold=0.001, include_sig_points= False):\n",
    "    \"\"\"\n",
    "        Function to plot the accuracy results:\n",
    "            - cong_accs: accuracy of the congruent pair of faces\n",
    "            - incong_accs: accuracy of the incongruent pair of faces\n",
    "            - cong_p: p_values corresponding to steps at which the accuracy of \n",
    "                      congruent pair of faces is significantly different from chance \n",
    "            - incong_p: p_values corresponding to steps at which the accuracy of \n",
    "                      incongruent pair of faces is significantly different from chance \n",
    "            - logistic_p: p_values corresponding to steps at which the accuracy of\n",
    "                          congruent pair of faces is significantly different from the \n",
    "                          accuracy of incongruent pair of faces\n",
    "            - analyze_every: perform the analysis every \"analyze_every\" steps\n",
    "            - title: title for the plot\n",
    "            - save_fn: filename to save the result\n",
    "            - sig_threshold: a therehsold to select significant points \n",
    "                             according to the logistic regression\n",
    "            - include_sig_points: whether adding \"x\" marks at steps in which the accuracy \n",
    "                                  is significanly different from chance\n",
    "    \"\"\"\n",
    "    n_runs, n_checkpoints = cong_accs.shape\n",
    "\n",
    "    # Compute mean and standard deviation for error bars\n",
    "    cong_mean = np.mean(cong_accs, axis=0)\n",
    "    incong_mean = np.mean(incong_accs, axis=0)\n",
    "\n",
    "    cong_sem = np.std(cong_accs, axis=0) / np.sqrt(len(cong_accs))\n",
    "    incong_sem = np.std(incong_accs, axis=0) / np.sqrt(len(incong_accs))\n",
    "\n",
    "    # Plot\n",
    "    fig, ax = plt.subplots()\n",
    "    x = np.arange(n_checkpoints)*analyze_every\n",
    "    ax.errorbar(x, cong_mean, yerr=cong_sem, c='tab:green')\n",
    "    ax.errorbar(x, incong_mean, yerr=incong_sem, c='tab:orange')\n",
    "    plt.xlabel('Steps')\n",
    "    plt.ylabel('Accuracy')\n",
    "    plt.ylim([-0.1,1.1])\n",
    "    plt.title(\"Accuracy on congruent trials improves first\")\n",
    "    ax.legend([\"Congruent\", \"Incongruent\"])\n",
    "    plt.axhline(y=0.5, color='black', linestyle='--')\n",
    "    \n",
    "    # Get spans of significance according to logistic regression\n",
    "    significant = [p < sig_threshold for p in logistic_p]\n",
    "    \n",
    "    sig_spans = []\n",
    "    mid_span = False\n",
    "    current_idx = 0\n",
    "    while current_idx < len(significant):\n",
    "        if mid_span:\n",
    "            if not significant[current_idx]:\n",
    "                stop = current_idx - 1\n",
    "                sig_spans.append([start, stop])\n",
    "                mid_span = False\n",
    "        else:\n",
    "            if significant[current_idx]:\n",
    "                start = current_idx\n",
    "                mid_span = True\n",
    "        current_idx += 1\n",
    "        \n",
    "    # Convert spans from idxs to steps\n",
    "    sig_spans = [[start*analyze_every, stop*analyze_every] for start, stop in sig_spans]\n",
    "    \n",
    "    # Visualize significance with colored area\n",
    "    for span in sig_spans:\n",
    "        plt.axvspan(span[0], span[1], color='blue', alpha=0.1)\n",
    "    \n",
    "    \n",
    "    if include_sig_points:\n",
    "        # Add asterisks for significance level\n",
    "        for i in range(n_checkpoints):\n",
    "            x_coord = x[i]\n",
    "            y_coord_cong = cong_mean[i]\n",
    "            y_coord_incong = incong_mean[i]\n",
    "            if cong_p[i] < 0.05:\n",
    "                plt.plot(x_coord, y_coord_cong, marker='x', color='blue')\n",
    "            if incong_p[i] < 0.05:\n",
    "                plt.plot(x_coord, y_coord_incong, marker='x', color='blue')\n",
    "    \n",
    "    # Save figure\n",
    "    if save_fn is not None:\n",
    "        plt.savefig(save_fn, dpi=1000, format='eps', bbox_inches='tight')    \n",
    "        \n",
    "    plt.show()"
   ],
   "outputs": [],
   "metadata": {}
  },
  {
   "cell_type": "code",
   "execution_count": 48,
   "source": [
    "def make_tsv(model_name = 'rnn'):\n",
    "    \"\"\"\n",
    "        Funciton to save the results as a tsv file\n",
    "        - model_name: what model to use \n",
    "    \"\"\"\n",
    "    in_dir = '../results/' #'Path to results directory with pickle files\n",
    "    out_dir = '../results/tsv/' #Path to directory to output tsv files\n",
    "    # Make output directory\n",
    "    if not os.path.exists(out_dir):\n",
    "        os.mkdir(out_dir)\n",
    "\n",
    "    # Load basic results\n",
    "    fn = os.path.join(in_dir, f\"{model_name}.P\")\n",
    "    with open(fn, 'rb') as f:\n",
    "        results = pickle.load(f)\n",
    "\n",
    "    # Accuracy results\n",
    "    header = []\n",
    "    data = []\n",
    "    acc_results = results['results']\n",
    "    for run_i, run in enumerate(acc_results):\n",
    "        for acc_type in ['acc', 'cong_acc', 'incong_acc']:\n",
    "            # Get column of data\n",
    "            col = np.array([s[acc_type] for s in run['analyze_accs']])\n",
    "            col = np.expand_dims(col, axis=1)\n",
    "            data.append(col)\n",
    "\n",
    "            # Header\n",
    "            run_name = f\"run{run_i}\"\n",
    "            acc_name = acc_type.replace('_', '-')\n",
    "            head = f\"{run_name}_{acc_name}\"\n",
    "            header.append(head)\n",
    "\n",
    "    data = np.asarray(data).squeeze()\n",
    "    print(data.shape, type(data))\n",
    "    header = \"\\t\".join(header)\n",
    "    out_file = os.path.join(out_dir, f'acc_{model_name}.tsv')\n",
    "    print(f\"Writing accuracy results to {out_file}\")\n",
    "    header_len = len(header.split('\\t'))\n",
    "    print(f\"Shape = {data.shape}, header = {header_len}\")\n",
    "    np.savetxt(out_file, data, delimiter='\\t', header=header)"
   ],
   "outputs": [],
   "metadata": {}
  },
  {
   "cell_type": "code",
   "execution_count": 49,
   "source": [
    "def binomial_test(accs):\n",
    "    \"\"\"\n",
    "        Test whether accuracies are significantly different from chance\n",
    "        Binomial test assuming that samples from all runs are i.i.d.\n",
    "        384 samples (96 neutral, 144 congruent, 144 incongruent)\n",
    "            - accs: accuracy values \n",
    "    \"\"\"\n",
    "    n = 144\n",
    "    n_runs, n_checkpoints = accs.shape\n",
    "    N = n*n_runs # total number of trials\n",
    "    \n",
    "    # Convert accuracies to successes\n",
    "    successes = accs * n\n",
    "    assert all([s.is_integer() for s in successes.flatten()])\n",
    "    successes = np.sum(successes, axis=0)\n",
    "    \n",
    "    # Binomial test\n",
    "    p_vals = []\n",
    "    for s in successes:\n",
    "        p_val = binom_test(s, N, p=0.5)\n",
    "        p_vals.append(p_val)\n",
    "    \n",
    "    return p_vals # n_steps\n",
    "    "
   ],
   "outputs": [],
   "metadata": {}
  },
  {
   "cell_type": "markdown",
   "source": [
    "## Accuracies on all samples"
   ],
   "metadata": {}
  },
  {
   "cell_type": "code",
   "execution_count": 50,
   "source": [
    "results_fn = 'rnn.P'\n",
    "rep_name = ''\n",
    "analyze_every = 50\n",
    "accs_type = 'analyze_accs'\n",
    "result_type= 'accuracy'\n",
    "title = \"RNN\"\n",
    "save_fn = '../figures/logistic_regression_cong_vs_incong_p001_test_rnn.eps'"
   ],
   "outputs": [],
   "metadata": {}
  },
  {
   "cell_type": "markdown",
   "source": [
    "Loading the results of the accuracy for all, congruent, incongruent pairs"
   ],
   "metadata": {}
  },
  {
   "cell_type": "code",
   "execution_count": 51,
   "source": [
    "accs, cong_accs, incong_accs = load_results(results_fn, result_type, rep_name)"
   ],
   "outputs": [],
   "metadata": {}
  },
  {
   "cell_type": "markdown",
   "source": [
    "Binomial test to test whether accuracy is significantly different from chance"
   ],
   "metadata": {}
  },
  {
   "cell_type": "code",
   "execution_count": 52,
   "source": [
    "cong_p = binomial_test(cong_accs)\n",
    "incong_p = binomial_test(incong_accs)"
   ],
   "outputs": [],
   "metadata": {}
  },
  {
   "cell_type": "markdown",
   "source": [
    "Logistic regression to test difference between congruent and incongruent accuracy"
   ],
   "metadata": {}
  },
  {
   "cell_type": "code",
   "execution_count": 53,
   "source": [
    "# Convert accuracies to correct\n",
    "assert incong_accs.shape == cong_accs.shape\n",
    "n_runs, n_steps = cong_accs.shape\n",
    "n_trials = 144 # 144 congruent trials, 144 incongruent trials\n",
    "#n_runs = 5\n",
    "\n",
    "dfs = []\n",
    "for step_i in range(n_steps):\n",
    "    run_data = []\n",
    "    for run_i in range(n_runs):\n",
    "        cong_acc = cong_accs[run_i, step_i]\n",
    "        incong_acc = incong_accs[run_i, step_i]\n",
    "        n_cong_correct = cong_acc * n_trials\n",
    "        n_incong_correct = incong_acc * n_trials\n",
    "        assert n_cong_correct.is_integer()\n",
    "        assert n_incong_correct.is_integer()\n",
    "        n_cong_correct = int(n_cong_correct)\n",
    "        n_incong_correct = int(n_incong_correct)\n",
    "        cong_correct = np.ones([n_cong_correct, 1])\n",
    "        cong_incorrect = np.zeros([n_trials - n_cong_correct,1])\n",
    "        incong_correct = np.ones([n_incong_correct,1])\n",
    "        incong_incorrect = np.zeros([n_trials - n_incong_correct,1])\n",
    "        \n",
    "        # make dataframe\n",
    "        run_id = run_i * np.ones([2*n_trials,1])\n",
    "        is_cong = np.concatenate([np.ones([n_trials,1]), \n",
    "                                  np.zeros([n_trials,1])], \n",
    "                                 axis=0)\n",
    "        is_correct = np.concatenate([cong_correct, cong_incorrect,\n",
    "                                     incong_correct, incong_incorrect],\n",
    "                                    axis=0)\n",
    "        run = np.concatenate([run_id, is_cong, is_correct], axis=1)\n",
    "        run_data.append(run)\n",
    "    step_data = np.concatenate(run_data, axis=0)\n",
    "    col_names = [\"run\", \"cong\", \"correct\"]\n",
    "    df = pd.DataFrame(step_data, columns=col_names)\n",
    "    df[\"run\"] = df[\"run\"].astype(\"category\")\n",
    "    dfs.append(df)"
   ],
   "outputs": [],
   "metadata": {}
  },
  {
   "cell_type": "code",
   "execution_count": 54,
   "source": [
    "%%capture\n",
    "log_regs = []\n",
    "for df in dfs:\n",
    "    log_reg = smf.logit(\"correct ~ cong\", data=df).fit()\n",
    "    log_regs.append(log_reg)"
   ],
   "outputs": [],
   "metadata": {
    "scrolled": true
   }
  },
  {
   "cell_type": "code",
   "execution_count": 55,
   "source": [
    "# whether printing the statistical results for all the steps\n",
    "print_all_steps = False\n",
    "\n",
    "if print_all_steps:\n",
    "    for step_i, log_reg in enumerate(log_regs):\n",
    "        print(f\"Step: {step_i*analyze_every}\")\n",
    "        print(log_reg.summary())\n",
    "        print(\"\\n\")"
   ],
   "outputs": [],
   "metadata": {
    "scrolled": true
   }
  },
  {
   "cell_type": "code",
   "execution_count": 56,
   "source": [
    "logistic_p = [log_reg.pvalues[1] for log_reg in log_regs]\n",
    "logistic_t = [log_reg.tvalues[1] for log_reg in log_regs]"
   ],
   "outputs": [],
   "metadata": {}
  },
  {
   "cell_type": "markdown",
   "source": [
    "Plotting the results\n",
    "- Shaded area shows at what steps the accuracies are different \n",
    "  between congruent and incongruent pairs\n",
    "- Set \"include_sig_points\" to \"True\" to assing \"x\" marks at steps\n",
    "  at which the accuracy is significanly different from chance"
   ],
   "metadata": {}
  },
  {
   "cell_type": "code",
   "execution_count": 57,
   "source": [
    "plot_accuracy(cong_accs, incong_accs, cong_p, incong_p, logistic_p, \n",
    "            analyze_every, title, save_fn, \n",
    "            sig_threshold=0.001, include_sig_points= False)"
   ],
   "outputs": [
    {
     "output_type": "stream",
     "name": "stderr",
     "text": [
      "The PostScript backend does not support transparency; partially transparent artists will be rendered opaque.\n"
     ]
    },
    {
     "output_type": "display_data",
     "data": {
      "text/plain": [
       "<Figure size 640x480 with 1 Axes>"
      ],
      "image/png": "[encoded data removed]"
     },
     "metadata": {}
    }
   ],
   "metadata": {}
  },
  {
   "cell_type": "markdown",
   "source": [
    "Save the results of the plots to a tsv file "
   ],
   "metadata": {}
  },
  {
   "cell_type": "code",
   "execution_count": 67,
   "source": [
    "header = '\\t'.join([f\"Step{analyze_every*i}\" for i in range(len(logistic_p))])\n",
    "np.savetxt('../results/tsv/acc_logistic_p_rnn.tsv',  logistic_p, \n",
    "           delimiter='\\t', header=header)\n",
    "np.savetxt('../results/tsv/acc_logistic_t_rnn.tsv',  logistic_t, \n",
    "           delimiter='\\t', header=header)"
   ],
   "outputs": [],
   "metadata": {}
  },
  {
   "cell_type": "markdown",
   "source": [
    "## Relationship between warping and congruent vs. incongruent accuracy"
   ],
   "metadata": {}
  },
  {
   "cell_type": "code",
   "execution_count": 59,
   "source": [
    "result_type = 'warping'\n",
    "rep_name = 'average'"
   ],
   "outputs": [],
   "metadata": {}
  },
  {
   "cell_type": "markdown",
   "source": [
    "Load warping data"
   ],
   "metadata": {}
  },
  {
   "cell_type": "code",
   "execution_count": 60,
   "source": [
    "dist_ratios = load_results(results_fn, result_type, rep_name)"
   ],
   "outputs": [],
   "metadata": {}
  },
  {
   "cell_type": "code",
   "execution_count": 61,
   "source": [
    "# Average over runs\n",
    "ave_dist_ratios = np.mean(dist_ratios, axis=0)\n",
    "ave_cong_accs = np.mean(cong_accs, axis=0)\n",
    "ave_incong_accs = np.mean(incong_accs, axis=0)\n",
    "ave_acc_ratios = ave_incong_accs / ave_cong_accs\n",
    "lin_time = np.arange(n_steps)"
   ],
   "outputs": [],
   "metadata": {}
  },
  {
   "cell_type": "markdown",
   "source": [
    "Plotting the relationship between the accruacy ratio and distance ratio"
   ],
   "metadata": {}
  },
  {
   "cell_type": "code",
   "execution_count": 68,
   "source": [
    "plt.scatter(ave_dist_ratios, ave_acc_ratios, c=analyze_every*lin_time)\n",
    "\n",
    "labels = [analyze_every*i for i in range(len(ave_dist_ratios))]\n",
    "for i, label in enumerate(labels):\n",
    "    plt.annotate(label, (ave_dist_ratios[i], ave_acc_ratios[i]))\n",
    "\n",
    "plt.xlabel(\"Distance ratio\")\n",
    "plt.ylabel(\"Accuracy ratio\")\n",
    "plt.colorbar(label=\"Steps\")\n",
    "plt.savefig('../figures/acc_vs_dist_scatter_rnn.eps', \n",
    "            dpi=1000, format='eps', bbox_inches='tight')\n",
    "plt.show()"
   ],
   "outputs": [
    {
     "output_type": "display_data",
     "data": {
      "text/plain": [
       "<Figure size 640x480 with 2 Axes>"
      ],
      "image/png": "[encoded data removed]"
     },
     "metadata": {}
    }
   ],
   "metadata": {}
  },
  {
   "cell_type": "code",
   "execution_count": 63,
   "source": [
    "lin_time_ = np.expand_dims(lin_time, axis=1)\n",
    "ave_dist_ratios_ = np.expand_dims(ave_dist_ratios, axis=1)\n",
    "interaction = np.expand_dims(lin_time*ave_dist_ratios, axis=1)\n",
    "x = np.concatenate([lin_time_, ave_dist_ratios_, interaction], axis=1)\n",
    "x = sm.add_constant(x)\n",
    "y = ave_acc_ratios"
   ],
   "outputs": [],
   "metadata": {}
  },
  {
   "cell_type": "code",
   "execution_count": 64,
   "source": [
    "print(x.shape, y.shape)"
   ],
   "outputs": [
    {
     "output_type": "stream",
     "name": "stdout",
     "text": [
      "(21, 4) (21,)\n"
     ]
    }
   ],
   "metadata": {}
  },
  {
   "cell_type": "code",
   "execution_count": 65,
   "source": [
    "reg = sm.OLS(y,x).fit()"
   ],
   "outputs": [],
   "metadata": {}
  },
  {
   "cell_type": "markdown",
   "source": [
    "There is a significant main effect of warping (distance ratio: avg_incong_dist / avg_cong_dist)\n",
    "\n",
    "There is a significant interaction between steps and warping (Steps*Warping)"
   ],
   "metadata": {}
  },
  {
   "cell_type": "code",
   "execution_count": 66,
   "source": [
    "print(reg.summary(xname=['Intercept', 'Steps', 'Warping', 'Steps*Warping']))"
   ],
   "outputs": [
    {
     "output_type": "stream",
     "name": "stdout",
     "text": [
      "                            OLS Regression Results                            \n",
      "==============================================================================\n",
      "Dep. Variable:                      y   R-squared:                       0.877\n",
      "Model:                            OLS   Adj. R-squared:                  0.856\n",
      "Method:                 Least Squares   F-statistic:                     40.52\n",
      "Date:                Mon, 12 Dec 2022   Prob (F-statistic):           5.83e-08\n",
      "Time:                        11:12:13   Log-Likelihood:                 30.820\n",
      "No. Observations:                  21   AIC:                            -53.64\n",
      "Df Residuals:                      17   BIC:                            -49.46\n",
      "Df Model:                           3                                         \n",
      "Covariance Type:            nonrobust                                         \n",
      "=================================================================================\n",
      "                    coef    std err          t      P>|t|      [0.025      0.975]\n",
      "---------------------------------------------------------------------------------\n",
      "Intercept         0.1316      0.091      1.449      0.165      -0.060       0.323\n",
      "Steps            -0.0396      0.030     -1.319      0.205      -0.103       0.024\n",
      "Warping           0.7120      0.112      6.361      0.000       0.476       0.948\n",
      "Steps*Warping     0.1145      0.050      2.267      0.037       0.008       0.221\n",
      "==============================================================================\n",
      "Omnibus:                        0.247   Durbin-Watson:                   0.648\n",
      "Prob(Omnibus):                  0.884   Jarque-Bera (JB):                0.435\n",
      "Skew:                           0.126   Prob(JB):                        0.805\n",
      "Kurtosis:                       2.342   Cond. No.                         147.\n",
      "==============================================================================\n",
      "\n",
      "Notes:\n",
      "[1] Standard Errors assume that the covariance matrix of the errors is correctly specified.\n"
     ]
    }
   ],
   "metadata": {}
  }
 ],
 "metadata": {
  "interpreter": {
   "hash": "7048822fac1e221a6e43c543d9991eb664e1bae785bc9fdf9897e223327eed7c"
  },
  "kernelspec": {
   "name": "python3",
   "display_name": "Python 3.10.8 64-bit"
  },
  "language_info": {
   "codemirror_mode": {
    "name": "ipython",
    "version": 3
   },
   "file_extension": ".py",
   "mimetype": "text/x-python",
   "name": "python",
   "nbconvert_exporter": "python",
   "pygments_lexer": "ipython3",
   "version": "3.10.8"
  }
 },
 "nbformat": 4,
 "nbformat_minor": 5
}