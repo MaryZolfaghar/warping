{
 "cells": [
  {
   "cell_type": "markdown",
   "source": [
    "# ttest after excluding certain pairs of faces"
   ],
   "metadata": {}
  },
  {
   "cell_type": "code",
   "execution_count": null,
   "source": [
    "import os\n",
    "import pickle\n",
    "import numpy as np\n",
    "import matplotlib.pyplot as plt"
   ],
   "outputs": [],
   "metadata": {}
  },
  {
   "cell_type": "code",
   "execution_count": null,
   "source": [
    "def load_results(results_fn, rep_name):\n",
    "    \"\"\"\n",
    "        Function to load the results\n",
    "            - result_fn: the path to the result folder\n",
    "            - rep_name: what type of representation to use (e.g, the averaged representations)\n",
    "    \"\"\"\n",
    "    results_dir = '../results/'\n",
    "    results_path = os.path.join(results_dir,results_fn)\n",
    "    \n",
    "    with open(results_path, 'rb') as f:\n",
    "        data = pickle.load(f)\n",
    "    \n",
    "    # Get regression results\n",
    "    analysis = data['analysis']\n",
    "    n_runs = len(analysis)\n",
    "    n_steps = len(analysis[0])\n",
    "    n_states = analysis[0][0]['get_diag_vis_params'][rep_name]['n_states']\n",
    "    idx2loc = analysis[0][0]['get_diag_vis_params'][rep_name]['idx2loc']\n",
    "    results_each = np.zeros([n_runs, n_steps, n_states])\n",
    "    results_bl_tr = np.zeros([n_runs, n_steps])\n",
    "    results_corners = np.zeros([n_runs, n_steps])\n",
    "    for run_i, run in enumerate(analysis):\n",
    "        for step_i, step in enumerate(run):\n",
    "            # Results of regression excluding each face one at a time\n",
    "            for idx in range(n_states):\n",
    "                each = step['ttest_exclusion']['excluding_each'][rep_name][idx][0]\n",
    "                results_each[run_i, step_i, idx] = each\n",
    "            # Results of regression excluding bottom left and top right\n",
    "            bl_tr = step['ttest_exclusion']['excluding_bl_tr'][rep_name][0]\n",
    "            results_bl_tr[run_i, step_i] = bl_tr\n",
    "            # Results of regression excluding all corners\n",
    "            corners = step['ttest_exclusion']['excluding_corners'][rep_name][0]\n",
    "            results_corners[run_i, step_i] = corners\n",
    "    \n",
    "    # Compute means and standard errors\n",
    "    each_mean = np.mean(results_each, axis=0)\n",
    "    each_sem = np.std(results_each, axis=0) / np.sqrt(n_runs)\n",
    "    bl_tr_mean = np.mean(results_bl_tr, axis=0)\n",
    "    bl_tr_sem = np.std(results_bl_tr, axis=0) / np.sqrt(n_runs)\n",
    "    corners_mean = np.mean(results_corners, axis=0)\n",
    "    corners_sem = np.std(results_corners, axis=0) / np.sqrt(n_runs)\n",
    "    \n",
    "    return (each_mean, each_sem), (bl_tr_mean, bl_tr_sem), (corners_mean, corners_sem), idx2loc"
   ],
   "outputs": [],
   "metadata": {}
  },
  {
   "cell_type": "code",
   "execution_count": null,
   "source": [
    "def load_results(results_fn, rep_name):\n",
    "    \"\"\"\n",
    "        Function to load the results\n",
    "            - result_fn: the path to the result folder\n",
    "            - rep_name: what type of representation to use (e.g, the averaged representations)\n",
    "    \"\"\"\n",
    "    results_dir = '../results/'\n",
    "    results_path = os.path.join(results_dir,results_fn)\n",
    "    \n",
    "    with open(results_path, 'rb') as f:\n",
    "        data = pickle.load(f)\n",
    "    \n",
    "    # Get regression results\n",
    "    analysis = data['analysis']\n",
    "    n_runs = len(analysis)\n",
    "    n_steps = len(analysis[0])\n",
    "    n_states = analysis[0][0]['get_diag_vis_params'][rep_name]['n_states']\n",
    "    idx2loc = analysis[0][0]['get_diag_vis_params'][rep_name]['idx2loc']\n",
    "    results_each = np.zeros([n_runs, n_steps, n_states])\n",
    "    results_bl_tr = np.zeros([n_runs, n_steps])\n",
    "    results_corners = np.zeros([n_runs, n_steps])\n",
    "    for run_i, run in enumerate(analysis):\n",
    "        for step_i, step in enumerate(run):\n",
    "            # Results of regression excluding each face one at a time\n",
    "            for idx in range(n_states):\n",
    "                each = step['ttest_exclusion']['excluding_each'][rep_name][idx]['t_statistic']\n",
    "                results_each[run_i, step_i, idx] = each\n",
    "            # Results of regression excluding bottom left and top right\n",
    "            bl_tr = step['ttest_exclusion']['excluding_bl_tr'][rep_name]['t_statistic']\n",
    "            results_bl_tr[run_i, step_i] = bl_tr\n",
    "            # Results of regression excluding all corners\n",
    "            corners = step['ttest_exclusion']['excluding_corners'][rep_name]['t_statistic']\n",
    "            results_corners[run_i, step_i] = corners\n",
    "\n",
    "    # Compute means and standard errors\n",
    "    each_mean = np.mean(results_each, axis=0)\n",
    "    each_sem = np.std(results_each, axis=0) / np.sqrt(n_runs)\n",
    "    bl_tr_mean = np.mean(results_bl_tr, axis=0)\n",
    "    bl_tr_sem = np.std(results_bl_tr, axis=0) / np.sqrt(n_runs)\n",
    "    corners_mean = np.mean(results_corners, axis=0)\n",
    "    corners_sem = np.std(results_corners, axis=0) / np.sqrt(n_runs)\n",
    "    \n",
    "    return (each_mean, each_sem), (bl_tr_mean, bl_tr_sem), (corners_mean, corners_sem), idx2loc"
   ],
   "outputs": [],
   "metadata": {}
  },
  {
   "cell_type": "code",
   "execution_count": null,
   "source": [
    "results_fn = 'rnn.P'\n",
    "rep_name = 'average'\n",
    "# steps at each we do the analysis (e.g, do the analysis every 50 steps)\n",
    "analyze_every = 50\n",
    "results_dir = '../results/'\n",
    "results_path = os.path.join(results_dir,results_fn)"
   ],
   "outputs": [],
   "metadata": {}
  },
  {
   "cell_type": "code",
   "execution_count": null,
   "source": [
    "def plot_each(each_mean, each_sem, idx2loc, title, save_fn):\n",
    "    \"\"\"\n",
    "        Function to plot the results\n",
    "            - each_mean: mean values\n",
    "            - each_sem: standard error of mean values\n",
    "            - idx2loc: conver index to 2D location (e.g, 1 -> (0,1))\n",
    "            - title: title for the plot\n",
    "            - save_fn: filename to save the result\n",
    "    \"\"\"\n",
    "    n_steps = len(each_mean)\n",
    "    x = [i for i in range(n_steps)]\n",
    "    x_labels = [i*analyze_every for i in range(n_steps)]\n",
    "    xticks = [4*i for i in range((n_steps // 4) + 1)]\n",
    "    xtick_labels = [xtick*analyze_every for xtick in xticks]\n",
    "    \n",
    "    fig, ax = plt.subplots(4, 4, sharex=True, sharey=True, figsize=(15, 10))\n",
    "    for idx, loc in idx2loc.items():\n",
    "        fig_loc = (3 - loc[1], loc[0])\n",
    "        ax[fig_loc].errorbar(x, each_mean[:,idx], yerr=each_sem[:,idx])\n",
    "        ax[fig_loc].set_xticks(xticks)\n",
    "        ax[fig_loc].axhline(y=1.96, color='r', linewidth=2)\n",
    "        ax[fig_loc].axhline(y=-1.96, color='r', linewidth=2)\n",
    "        ax[fig_loc].set_title(\"Excluding (%d, %d)\" % loc)\n",
    "        if fig_loc[0] == 3:\n",
    "            ax[fig_loc].set_xticklabels(xtick_labels)\n",
    "            ax[fig_loc].set_xlabel(\"Steps\")\n",
    "        if fig_loc[1] == 0:\n",
    "            ax[fig_loc].set_ylabel(\"T statistic\")\n",
    "        \n",
    "    fig.suptitle(title, y=0.94)\n",
    "    \n",
    "    # Save figure\n",
    "    if save_fn is not None:\n",
    "        plt.savefig(save_fn, dpi=300, bbox_inches='tight')\n",
    "    plt.show()   "
   ],
   "outputs": [],
   "metadata": {}
  },
  {
   "cell_type": "code",
   "execution_count": null,
   "source": [
    "def plot_ttest(t_mean, t_sem, title, save_fn):\n",
    "    \"\"\"\n",
    "        Function to plot the ttest results\n",
    "            - t_mean: mean values \n",
    "            - t_sem: standard error of mean values \n",
    "            - title: title for the plot\n",
    "            - save_fn: filename to save the result\n",
    "    \"\"\"\n",
    "    n_steps = len(t_mean)\n",
    "    x = [i for i in range(n_steps)]\n",
    "    x_labels = [i*analyze_every for i in range(n_steps)]\n",
    "    xticks = [2*i for i in range((n_steps // 2) + 1)]\n",
    "    xtick_labels = [xtick*analyze_every for xtick in xticks]\n",
    "    \n",
    "    fig, ax = plt.subplots()\n",
    "    ax.errorbar(x, t_mean, yerr=t_sem)\n",
    "    ax.axhline(y=1.96, color='r', linewidth=2)\n",
    "    ax.axhline(y=-1.96, color='r', linewidth=2)\n",
    "        \n",
    "    ax.set_title(title)\n",
    "    ax.set_xticks(xticks)\n",
    "    ax.set_xticklabels(xtick_labels)\n",
    "    ax.set_xlabel(\"Steps\")\n",
    "    ax.set_ylabel(\"T statistic\")\n",
    "    \n",
    "    # Save figure\n",
    "    if save_fn is not None:\n",
    "        plt.savefig(save_fn, dpi=300, format='eps', bbox_inches='tight')\n",
    "    plt.show()    "
   ],
   "outputs": [],
   "metadata": {}
  },
  {
   "cell_type": "code",
   "execution_count": null,
   "source": [
    "def make_tsv(model_name = 'rnn'):\n",
    "    \"\"\"\n",
    "        Funciton to save the results as a tsv file\n",
    "        - model_name: what model to use \n",
    "    \"\"\"\n",
    "    in_dir = '../results/' #'Path to results directory with pickle files\n",
    "    out_dir = '../results/tsv/' #Path to directory to output tsv files\n",
    "    # Make output directory\n",
    "    if not os.path.exists(out_dir):\n",
    "        os.mkdir(out_dir)\n",
    "\n",
    "    # Load basic results\n",
    "    fn = os.path.join(in_dir, f\"{model_name}.P\")\n",
    "    with open(fn, 'rb') as f:\n",
    "        results = pickle.load(f)\n",
    "    analysis = results['analysis']\n",
    "    # Warping results (t-test and ratio)\n",
    "    header = []\n",
    "    data = []\n",
    "    for run_i, run in enumerate(analysis):\n",
    "        # T-test results\n",
    "        for stat in ['t_statistic', 'p_value']:\n",
    "            # Get column of data\n",
    "            col = np.array([s['ttest'][rep_name][stat] for s in run])\n",
    "            col = np.expand_dims(col, axis=1)\n",
    "            data.append(col)\n",
    "\n",
    "            # Header\n",
    "            run_name = f\"run{run_i}\"\n",
    "            stat_name = stat.replace('_', '-')\n",
    "            head = f\"{run_name}_{stat_name}\"\n",
    "            header.append(head)\n",
    "\n",
    "        # Ratio results\n",
    "        for stat in ['ratio', 'ave_cong_dist', 'ave_incong_dist']:\n",
    "            # Get column \n",
    "            col = np.array([s['distance_ratio'][rep_name][stat] for s in run])\n",
    "            col = np.expand_dims(col, axis=1)\n",
    "            data.append(col)\n",
    "\n",
    "            # Header\n",
    "            run_name = f\"run{run_i}\"\n",
    "            stat_name = stat.replace('_', '-')\n",
    "            head = f\"{run_name}_{stat_name}\"\n",
    "            header.append(head)\n",
    "    data = np.concatenate(data, axis=1) # [n_steps, n_runs * n_stats * n_vars]\n",
    "    header = \"\\t\".join(header) # n_runs * n_stats * n_vars\n",
    "    out_file = os.path.join(out_dir, f'warping_{model_name}.tsv')\n",
    "    print(f\"Writing warping results to {out_file}\")\n",
    "    header_len = len(header.split('\\t'))\n",
    "    print(f\"Shape = {data.shape}, header = {header_len}\")\n",
    "    np.savetxt(out_file, data, delimiter='\\t', header=header)\n",
    "\n"
   ],
   "outputs": [],
   "metadata": {}
  },
  {
   "cell_type": "code",
   "execution_count": null,
   "source": [
    "results_fn = 'rnn.P'\n",
    "rep_name = 'average'\n",
    "# steps at each we do the analysis (e.g, do the analysis every 50 steps)\n",
    "analyze_every = 50"
   ],
   "outputs": [],
   "metadata": {}
  },
  {
   "cell_type": "markdown",
   "source": [
    "Load results"
   ],
   "metadata": {}
  },
  {
   "cell_type": "code",
   "execution_count": null,
   "source": [
    "each, bl_tr, corners, idx2loc = load_results(results_fn, rep_name)\n",
    "each_mean, each_sem = each\n",
    "bl_tr_mean, bl_tr_sem = bl_tr \n",
    "corners_mean, corners_sem = corners"
   ],
   "outputs": [],
   "metadata": {}
  },
  {
   "cell_type": "markdown",
   "source": [
    "Plot the results after excluding each face"
   ],
   "metadata": {}
  },
  {
   "cell_type": "code",
   "execution_count": null,
   "source": [
    "title = \"RNN: regression excluding each face\"\n",
    "save_fn = '../figures/rnn_excluding_each.eps'"
   ],
   "outputs": [],
   "metadata": {}
  },
  {
   "cell_type": "code",
   "execution_count": null,
   "source": [
    "plot_each(each_mean, each_sem, idx2loc, title, save_fn)"
   ],
   "outputs": [],
   "metadata": {}
  },
  {
   "cell_type": "markdown",
   "source": [
    "Plot results after excluding bottom left and top right"
   ],
   "metadata": {}
  },
  {
   "cell_type": "code",
   "execution_count": null,
   "source": [
    "title = \"RNN: ttest excluding bottom left and top right\"\n",
    "save_fn = '../figures/rnn_excluding_bl_tr.eps'"
   ],
   "outputs": [],
   "metadata": {}
  },
  {
   "cell_type": "code",
   "execution_count": null,
   "source": [
    "plot_ttest(bl_tr_mean, bl_tr_sem, title, save_fn)"
   ],
   "outputs": [],
   "metadata": {}
  },
  {
   "cell_type": "markdown",
   "source": [
    "Plot the results after excluding all corners"
   ],
   "metadata": {}
  },
  {
   "cell_type": "code",
   "execution_count": null,
   "source": [
    "title = \"RNN: regression excluding all corners\"\n",
    "save_fn = '../figures/rnn_excluding_corners.eps'"
   ],
   "outputs": [],
   "metadata": {}
  },
  {
   "cell_type": "code",
   "execution_count": null,
   "source": [
    "plot_ttest(corners_mean, corners_sem, title, save_fn)"
   ],
   "outputs": [],
   "metadata": {}
  }
 ],
 "metadata": {
  "kernelspec": {
   "name": "python3",
   "display_name": "Python 3.10.8 64-bit ('warping': conda)"
  },
  "language_info": {
   "codemirror_mode": {
    "name": "ipython",
    "version": 3
   },
   "file_extension": ".py",
   "mimetype": "text/x-python",
   "name": "python",
   "nbconvert_exporter": "python",
   "pygments_lexer": "ipython3",
   "version": "3.10.8"
  },
  "interpreter": {
   "hash": "7048822fac1e221a6e43c543d9991eb664e1bae785bc9fdf9897e223327eed7c"
  }
 },
 "nbformat": 4,
 "nbformat_minor": 5
}